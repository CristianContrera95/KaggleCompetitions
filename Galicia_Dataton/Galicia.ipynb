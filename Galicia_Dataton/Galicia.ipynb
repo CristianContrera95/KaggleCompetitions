{
 "cells": [
  {
   "cell_type": "code",
   "execution_count": 2,
   "metadata": {},
   "outputs": [],
   "source": [
    "# !pip install pandas numpy matplotlib scikit-learn imbalanced-learn seaborn"
   ]
  },
  {
   "cell_type": "code",
   "execution_count": 1,
   "metadata": {},
   "outputs": [],
   "source": [
    "import pandas as pd\n",
    "import numpy as np\n",
    "\n",
    "import gcsfs\n",
    "import json\n",
    "\n",
    "import matplotlib.pyplot as plt\n",
    "import seaborn as sns\n",
    "\n",
    "from sklearn.model_selection import train_test_split, GridSearchCV, KFold, RepeatedKFold\n",
    "from sklearn.feature_selection import SelectPercentile, chi2\n",
    "from sklearn.preprocessing import StandardScaler\n",
    "from sklearn.pipeline import make_pipeline\n",
    "\n",
    "from sklearn.linear_model import LogisticRegression\n",
    "from sklearn.ensemble import RandomForestClassifier\n",
    "\n",
    "from sklearn.metrics import roc_curve, roc_auc_score, auc, accuracy_score, confusion_matrix, classification_report\n",
    "\n",
    "from imblearn.over_sampling import SMOTE"
   ]
  },
  {
   "cell_type": "markdown",
   "metadata": {},
   "source": [
    "#### Load credentials for google-cloud"
   ]
  },
  {
   "cell_type": "code",
   "execution_count": 2,
   "metadata": {},
   "outputs": [
    {
     "name": "stdout",
     "output_type": "stream",
     "text": [
      "gs://lavoz-datascience/tmp/\r\n",
      "gs://lavoz-datascience/tmp/Untitled.ipynb\r\n",
      "gs://lavoz-datascience/tmp/conversiones.csv\r\n",
      "gs://lavoz-datascience/tmp/device_data.csv\r\n",
      "gs://lavoz-datascience/tmp/df_full_encoded.csv\r\n",
      "gs://lavoz-datascience/tmp/df_pw_joined.csv\r\n",
      "gs://lavoz-datascience/tmp/gcp.json\r\n",
      "gs://lavoz-datascience/tmp/local.ipynb\r\n",
      "gs://lavoz-datascience/tmp/pageviews.csv\r\n",
      "gs://lavoz-datascience/tmp/pageviews_complemento.csv\r\n",
      "gs://lavoz-datascience/tmp/.ipynb_checkpoints/\r\n"
     ]
    }
   ],
   "source": [
    "!gsutil ls gs://lavoz-datascience/tmp"
   ]
  },
  {
   "cell_type": "code",
   "execution_count": 3,
   "metadata": {},
   "outputs": [
    {
     "name": "stdout",
     "output_type": "stream",
     "text": [
      "bin\t  home\t\t  media\t\t\t\t    root  usr\r\n",
      "boot\t  initrd.img\t  miniconda\t\t\t    run   var\r\n",
      "dev\t  initrd.img.old  Miniconda3-4.5.4-Linux-x86_64.sh  sbin  vmlinuz\r\n",
      "etc\t  lib\t\t  mnt\t\t\t\t    srv   vmlinuz.old\r\n",
      "gcp.json  lib64\t\t  opt\t\t\t\t    sys\r\n",
      "hadoop\t  lost+found\t  proc\t\t\t\t    tmp\r\n"
     ]
    }
   ],
   "source": [
    "!gsutil cat gs://lavoz-datascience/tmp/gcp.json > gcp.json && ls"
   ]
  },
  {
   "cell_type": "code",
   "execution_count": 2,
   "metadata": {},
   "outputs": [],
   "source": [
    "token = json.load(open('gcp.json'))\n",
    "fs = gcsfs.GCSFileSystem(project='gc-la-voz',token=token)"
   ]
  },
  {
   "cell_type": "markdown",
   "metadata": {},
   "source": [
    "---"
   ]
  },
  {
   "cell_type": "markdown",
   "metadata": {},
   "source": [
    "### Load data and exploration"
   ]
  },
  {
   "cell_type": "code",
   "execution_count": null,
   "metadata": {},
   "outputs": [],
   "source": [
    "df_pw = pd.concat([pd.read_csv(fs.open('gs://lavoz-datascience/tmp/pageviews.csv'), parse_dates=[\"FEC_EVENT\"]),\n",
    "                   pd.read_csv(fs.open('gs://lavoz-datascience/tmp/pageviews_complemento.csv'), parse_dates=[\"FEC_EVENT\"])\n",
    "                  ], sort=False)\n",
    "df_pw.shape"
   ]
  },
  {
   "cell_type": "code",
   "execution_count": null,
   "metadata": {},
   "outputs": [],
   "source": [
    "df_pw.head()"
   ]
  },
  {
   "cell_type": "code",
   "execution_count": null,
   "metadata": {},
   "outputs": [],
   "source": [
    "df_pw['mes_event']= df_pw.FEC_EVENT.dt.month\n",
    "# df_pw['anio']= df_pw.FEC_EVENT.dt.year"
   ]
  },
  {
   "cell_type": "code",
   "execution_count": null,
   "metadata": {},
   "outputs": [],
   "source": [
    "# Values for column\n",
    "for col in df_pw.columns.to_list():\n",
    "    print(col, len(df_pw[col].value_counts()))"
   ]
  },
  {
   "cell_type": "code",
   "execution_count": 7,
   "metadata": {},
   "outputs": [
    {
     "name": "stdout",
     "output_type": "stream",
     "text": [
      "count    1.409043e+07\n",
      "mean     6.158803e+01\n",
      "std      1.375727e+02\n",
      "min      1.000000e+00\n",
      "25%      3.000000e+00\n",
      "50%      2.100000e+01\n",
      "75%      5.900000e+01\n",
      "max      1.833000e+03\n",
      "Name: PAGE, dtype: float64\n",
      "----------------------------------------------------------------------------------------\n",
      "count    1.409043e+07\n",
      "mean     2.363839e+00\n",
      "std      1.972155e+00\n",
      "min      1.000000e+00\n",
      "25%      2.000000e+00\n",
      "50%      2.000000e+00\n",
      "75%      2.000000e+00\n",
      "max      6.800000e+01\n",
      "Name: CONTENT_CATEGORY, dtype: float64\n",
      "----------------------------------------------------------------------------------------\n",
      "count    1.409043e+07\n",
      "mean     1.984583e+00\n",
      "std      4.631534e-01\n",
      "min      1.000000e+00\n",
      "25%      2.000000e+00\n",
      "50%      2.000000e+00\n",
      "75%      2.000000e+00\n",
      "max      1.300000e+01\n",
      "Name: CONTENT_CATEGORY_TOP, dtype: float64\n",
      "----------------------------------------------------------------------------------------\n",
      "count    1.409043e+07\n",
      "mean     2.363839e+00\n",
      "std      1.972155e+00\n",
      "min      1.000000e+00\n",
      "25%      2.000000e+00\n",
      "50%      2.000000e+00\n",
      "75%      2.000000e+00\n",
      "max      6.800000e+01\n",
      "Name: CONTENT_CATEGORY_BOTTOM, dtype: float64\n",
      "----------------------------------------------------------------------------------------\n",
      "count    1.409043e+07\n",
      "mean     2.513675e+00\n",
      "std      6.563607e-01\n",
      "min      1.000000e+00\n",
      "25%      2.000000e+00\n",
      "50%      3.000000e+00\n",
      "75%      3.000000e+00\n",
      "max      4.000000e+00\n",
      "Name: SITE_ID, dtype: float64\n",
      "----------------------------------------------------------------------------------------\n",
      "count    1.409043e+07\n",
      "mean     1.004547e+00\n",
      "std      9.006663e-01\n",
      "min      1.000000e+00\n",
      "25%      1.000000e+00\n",
      "50%      1.000000e+00\n",
      "75%      1.000000e+00\n",
      "max      2.930000e+02\n",
      "Name: ON_SITE_SEARCH_TERM, dtype: float64\n",
      "----------------------------------------------------------------------------------------\n"
     ]
    }
   ],
   "source": [
    "# Stats for columns\n",
    "for col in df_pw.drop(columns=['USER_ID', 'FEC_EVENT', 'mes_event']).columns.to_list():\n",
    "    print(df_pw[col].describe(), end=f'\\n{\"-\"*88}\\n')"
   ]
  },
  {
   "cell_type": "code",
   "execution_count": 8,
   "metadata": {},
   "outputs": [
    {
     "data": {
      "image/png": "[encoded data removed]",
      "text/plain": [
       "<Figure size 432x288 with 1 Axes>"
      ]
     },
     "metadata": {
      "needs_background": "light"
     },
     "output_type": "display_data"
    }
   ],
   "source": [
    "# events for month\n",
    "(df_pw.groupby(['mes_event']).USER_ID.nunique() /\n",
    "df_pw.USER_ID.nunique()).plot(kind=\"bar\")\n",
    "plt.show()"
   ]
  },
  {
   "cell_type": "code",
   "execution_count": 14,
   "metadata": {},
   "outputs": [
    {
     "data": {
      "image/png": "[encoded data removed]",
      "text/plain": [
       "<Figure size 432x288 with 1 Axes>"
      ]
     },
     "metadata": {
      "needs_background": "light"
     },
     "output_type": "display_data"
    }
   ],
   "source": [
    "# Events for site\n",
    "(df_pw.groupby(['SITE_ID']).USER_ID.nunique() /\n",
    "df_pw.USER_ID.nunique()).plot(kind=\"bar\")\n",
    "plt.show()"
   ]
  },
  {
   "cell_type": "code",
   "execution_count": 15,
   "metadata": {
    "scrolled": true
   },
   "outputs": [
    {
     "data": {
      "image/png": "[encoded data removed]",
      "text/plain": [
       "<Figure size 432x288 with 1 Axes>"
      ]
     },
     "metadata": {
      "needs_background": "light"
     },
     "output_type": "display_data"
    }
   ],
   "source": [
    "# Events for CONTENT_CATEGORY_TOP\n",
    "(df_pw.groupby(['CONTENT_CATEGORY_TOP']).USER_ID.nunique() /\n",
    "df_pw.USER_ID.nunique()).plot(kind=\"bar\")\n",
    "plt.show()"
   ]
  },
  {
   "cell_type": "code",
   "execution_count": null,
   "metadata": {},
   "outputs": [],
   "source": []
  },
  {
   "cell_type": "code",
   "execution_count": 24,
   "metadata": {},
   "outputs": [
    {
     "data": {
      "image/png": "[encoded data removed]",
      "text/plain": [
       "<Figure size 432x288 with 1 Axes>"
      ]
     },
     "metadata": {
      "needs_background": "light"
     },
     "output_type": "display_data"
    }
   ],
   "source": [
    "var = 'PAGE'\n",
    "data = pd.concat([df_pw['mes_event'], df_pw[var]], axis=1)\n",
    "data.plot.scatter(x=var, y='mes_event', ylim=(0,12));"
   ]
  },
  {
   "cell_type": "code",
   "execution_count": 16,
   "metadata": {},
   "outputs": [
    {
     "data": {
      "text/html": [
       "<div>\n",
       "<style scoped>\n",
       "    .dataframe tbody tr th:only-of-type {\n",
       "        vertical-align: middle;\n",
       "    }\n",
       "\n",
       "    .dataframe tbody tr th {\n",
       "        vertical-align: top;\n",
       "    }\n",
       "\n",
       "    .dataframe thead th {\n",
       "        text-align: right;\n",
       "    }\n",
       "</style>\n",
       "<table border=\"1\" class=\"dataframe\">\n",
       "  <thead>\n",
       "    <tr style=\"text-align: right;\">\n",
       "      <th></th>\n",
       "      <th>Total</th>\n",
       "      <th>Percent</th>\n",
       "    </tr>\n",
       "  </thead>\n",
       "  <tbody>\n",
       "    <tr>\n",
       "      <th>mes_event</th>\n",
       "      <td>0</td>\n",
       "      <td>0.0</td>\n",
       "    </tr>\n",
       "    <tr>\n",
       "      <th>USER_ID</th>\n",
       "      <td>0</td>\n",
       "      <td>0.0</td>\n",
       "    </tr>\n",
       "    <tr>\n",
       "      <th>ON_SITE_SEARCH_TERM</th>\n",
       "      <td>0</td>\n",
       "      <td>0.0</td>\n",
       "    </tr>\n",
       "    <tr>\n",
       "      <th>SITE_ID</th>\n",
       "      <td>0</td>\n",
       "      <td>0.0</td>\n",
       "    </tr>\n",
       "    <tr>\n",
       "      <th>CONTENT_CATEGORY_BOTTOM</th>\n",
       "      <td>0</td>\n",
       "      <td>0.0</td>\n",
       "    </tr>\n",
       "    <tr>\n",
       "      <th>CONTENT_CATEGORY_TOP</th>\n",
       "      <td>0</td>\n",
       "      <td>0.0</td>\n",
       "    </tr>\n",
       "    <tr>\n",
       "      <th>CONTENT_CATEGORY</th>\n",
       "      <td>0</td>\n",
       "      <td>0.0</td>\n",
       "    </tr>\n",
       "    <tr>\n",
       "      <th>PAGE</th>\n",
       "      <td>0</td>\n",
       "      <td>0.0</td>\n",
       "    </tr>\n",
       "    <tr>\n",
       "      <th>FEC_EVENT</th>\n",
       "      <td>0</td>\n",
       "      <td>0.0</td>\n",
       "    </tr>\n",
       "  </tbody>\n",
       "</table>\n",
       "</div>"
      ],
      "text/plain": [
       "                         Total  Percent\n",
       "mes_event                    0      0.0\n",
       "USER_ID                      0      0.0\n",
       "ON_SITE_SEARCH_TERM          0      0.0\n",
       "SITE_ID                      0      0.0\n",
       "CONTENT_CATEGORY_BOTTOM      0      0.0\n",
       "CONTENT_CATEGORY_TOP         0      0.0\n",
       "CONTENT_CATEGORY             0      0.0\n",
       "PAGE                         0      0.0\n",
       "FEC_EVENT                    0      0.0"
      ]
     },
     "execution_count": 16,
     "metadata": {},
     "output_type": "execute_result"
    }
   ],
   "source": [
    "# missing data\n",
    "total = df_pw.isnull().sum().sort_values(ascending=False)\n",
    "percent = (df_pw.isnull().sum()/df_pw.isnull().count()).sort_values(ascending=False)\n",
    "missing_data = pd.concat([total, percent], axis=1, keys=['Total', 'Percent'])\n",
    "missing_data.head(20)"
   ]
  },
  {
   "cell_type": "code",
   "execution_count": 22,
   "metadata": {},
   "outputs": [
    {
     "name": "stdout",
     "output_type": "stream",
     "text": [
      "outer range (low) of the distribution:\n",
      "[[-0.39544109]\n",
      " [-0.39544109]\n",
      " [-0.39544109]\n",
      " [-0.39544109]\n",
      " [-0.39544109]\n",
      " [-0.39544109]\n",
      " [-0.39544109]\n",
      " [-0.39544109]\n",
      " [-0.39544109]\n",
      " [-0.39544109]]\n",
      "\n",
      "outer range (high) of the distribution:\n",
      "[[10.30539931]\n",
      " [10.31125957]\n",
      " [10.31711983]\n",
      " [10.3229801 ]\n",
      " [10.32884036]\n",
      " [10.33470062]\n",
      " [10.34056089]\n",
      " [10.34056089]\n",
      " [10.34642115]\n",
      " [10.35228141]]\n"
     ]
    }
   ],
   "source": [
    "# standardizing data\n",
    "saleprice_scaled = StandardScaler().fit_transform(df_pw['PAGE'][:,np.newaxis]);\n",
    "low_range = saleprice_scaled[saleprice_scaled[:,0].argsort()][:10]\n",
    "high_range= saleprice_scaled[saleprice_scaled[:,0].argsort()][-10:]\n",
    "print('outer range (low) of the distribution:')\n",
    "print(low_range)\n",
    "print('\\nouter range (high) of the distribution:')\n",
    "print(high_range)"
   ]
  },
  {
   "cell_type": "code",
   "execution_count": null,
   "metadata": {},
   "outputs": [],
   "source": []
  },
  {
   "cell_type": "markdown",
   "metadata": {},
   "source": [
    "### Separamos en Tests y Train calculando media de cada variable"
   ]
  },
  {
   "cell_type": "code",
   "execution_count": null,
   "metadata": {
    "scrolled": true
   },
   "outputs": [],
   "source": [
    "# Create X_test with whole period and group events for USER_ID\n",
    "X_test = []\n",
    "for c in df_pw.drop(['USER_ID', 'FEC_EVENT', 'mes_event'], axis=1).columns:\n",
    "    print('haciendo', c)\n",
    "    temp = pd.crosstab(df_pw.USER_ID, df_pw[c])\n",
    "    temp.columns = [c + \"_\" + str(v) for v in temp.columns]\n",
    "    X_test.append(temp.apply(lambda x: x / x.sum(), axis=1))\n",
    "\n",
    "X_test = pd.concat(X_test, axis=1)"
   ]
  },
  {
   "cell_type": "code",
   "execution_count": null,
   "metadata": {},
   "outputs": [],
   "source": [
    "# Create X_train with 'mes < 10' period and group events for USER_ID\n",
    "X_train = []\n",
    "for c in df_pw[df_pw.mes_event < 10].drop(['USER_ID', 'FEC_EVENT', 'mes_event'], axis=1).columns:\n",
    "    print('haciendo', c)\n",
    "    temp = pd.crosstab(df_pw[df_pw.mes_event < 10].USER_ID, df_pw[df_pw.mes_event < 10][c])\n",
    "    temp.columns = [c + \"_\" + str(v) for v in temp.columns]\n",
    "    X_train.append(temp.apply(lambda x: x / x.sum(), axis=1))\n",
    "\n",
    "X_train = pd.concat(X_train, axis=1)"
   ]
  },
  {
   "cell_type": "code",
   "execution_count": 11,
   "metadata": {
    "scrolled": true
   },
   "outputs": [
    {
     "data": {
      "text/html": [
       "<div>\n",
       "<style scoped>\n",
       "    .dataframe tbody tr th:only-of-type {\n",
       "        vertical-align: middle;\n",
       "    }\n",
       "\n",
       "    .dataframe tbody tr th {\n",
       "        vertical-align: top;\n",
       "    }\n",
       "\n",
       "    .dataframe thead th {\n",
       "        text-align: right;\n",
       "    }\n",
       "</style>\n",
       "<table border=\"1\" class=\"dataframe\">\n",
       "  <thead>\n",
       "    <tr style=\"text-align: right;\">\n",
       "      <th></th>\n",
       "      <th>PAGE_1</th>\n",
       "      <th>PAGE_2</th>\n",
       "      <th>PAGE_3</th>\n",
       "      <th>PAGE_4</th>\n",
       "      <th>PAGE_5</th>\n",
       "      <th>PAGE_6</th>\n",
       "      <th>PAGE_7</th>\n",
       "      <th>PAGE_8</th>\n",
       "      <th>PAGE_9</th>\n",
       "      <th>PAGE_10</th>\n",
       "      <th>...</th>\n",
       "      <th>ON_SITE_SEARCH_TERM_284.0</th>\n",
       "      <th>ON_SITE_SEARCH_TERM_285.0</th>\n",
       "      <th>ON_SITE_SEARCH_TERM_286.0</th>\n",
       "      <th>ON_SITE_SEARCH_TERM_287.0</th>\n",
       "      <th>ON_SITE_SEARCH_TERM_288.0</th>\n",
       "      <th>ON_SITE_SEARCH_TERM_289.0</th>\n",
       "      <th>ON_SITE_SEARCH_TERM_290.0</th>\n",
       "      <th>ON_SITE_SEARCH_TERM_291.0</th>\n",
       "      <th>ON_SITE_SEARCH_TERM_292.0</th>\n",
       "      <th>ON_SITE_SEARCH_TERM_293.0</th>\n",
       "    </tr>\n",
       "    <tr>\n",
       "      <th>USER_ID</th>\n",
       "      <th></th>\n",
       "      <th></th>\n",
       "      <th></th>\n",
       "      <th></th>\n",
       "      <th></th>\n",
       "      <th></th>\n",
       "      <th></th>\n",
       "      <th></th>\n",
       "      <th></th>\n",
       "      <th></th>\n",
       "      <th></th>\n",
       "      <th></th>\n",
       "      <th></th>\n",
       "      <th></th>\n",
       "      <th></th>\n",
       "      <th></th>\n",
       "      <th></th>\n",
       "      <th></th>\n",
       "      <th></th>\n",
       "      <th></th>\n",
       "      <th></th>\n",
       "    </tr>\n",
       "  </thead>\n",
       "  <tbody>\n",
       "    <tr>\n",
       "      <th>0.0</th>\n",
       "      <td>0.049499</td>\n",
       "      <td>0.090226</td>\n",
       "      <td>0.022556</td>\n",
       "      <td>0.007832</td>\n",
       "      <td>0.001880</td>\n",
       "      <td>0.004699</td>\n",
       "      <td>0.000313</td>\n",
       "      <td>0.000313</td>\n",
       "      <td>0.067043</td>\n",
       "      <td>0.176065</td>\n",
       "      <td>...</td>\n",
       "      <td>0.0</td>\n",
       "      <td>0.0</td>\n",
       "      <td>0.0</td>\n",
       "      <td>0.0</td>\n",
       "      <td>0.0</td>\n",
       "      <td>0.0</td>\n",
       "      <td>0.0</td>\n",
       "      <td>0.0</td>\n",
       "      <td>0.0</td>\n",
       "      <td>0.0</td>\n",
       "    </tr>\n",
       "    <tr>\n",
       "      <th>1.0</th>\n",
       "      <td>0.120096</td>\n",
       "      <td>0.120897</td>\n",
       "      <td>0.016813</td>\n",
       "      <td>0.007206</td>\n",
       "      <td>0.001601</td>\n",
       "      <td>0.000801</td>\n",
       "      <td>0.000000</td>\n",
       "      <td>0.000000</td>\n",
       "      <td>0.075260</td>\n",
       "      <td>0.184147</td>\n",
       "      <td>...</td>\n",
       "      <td>0.0</td>\n",
       "      <td>0.0</td>\n",
       "      <td>0.0</td>\n",
       "      <td>0.0</td>\n",
       "      <td>0.0</td>\n",
       "      <td>0.0</td>\n",
       "      <td>0.0</td>\n",
       "      <td>0.0</td>\n",
       "      <td>0.0</td>\n",
       "      <td>0.0</td>\n",
       "    </tr>\n",
       "    <tr>\n",
       "      <th>2.0</th>\n",
       "      <td>0.031083</td>\n",
       "      <td>0.168274</td>\n",
       "      <td>0.078242</td>\n",
       "      <td>0.013934</td>\n",
       "      <td>0.018221</td>\n",
       "      <td>0.001072</td>\n",
       "      <td>0.000000</td>\n",
       "      <td>0.000000</td>\n",
       "      <td>0.063237</td>\n",
       "      <td>0.130761</td>\n",
       "      <td>...</td>\n",
       "      <td>0.0</td>\n",
       "      <td>0.0</td>\n",
       "      <td>0.0</td>\n",
       "      <td>0.0</td>\n",
       "      <td>0.0</td>\n",
       "      <td>0.0</td>\n",
       "      <td>0.0</td>\n",
       "      <td>0.0</td>\n",
       "      <td>0.0</td>\n",
       "      <td>0.0</td>\n",
       "    </tr>\n",
       "    <tr>\n",
       "      <th>3.0</th>\n",
       "      <td>0.000000</td>\n",
       "      <td>0.169557</td>\n",
       "      <td>0.108863</td>\n",
       "      <td>0.032755</td>\n",
       "      <td>0.030829</td>\n",
       "      <td>0.006744</td>\n",
       "      <td>0.000000</td>\n",
       "      <td>0.000000</td>\n",
       "      <td>0.000000</td>\n",
       "      <td>0.000000</td>\n",
       "      <td>...</td>\n",
       "      <td>0.0</td>\n",
       "      <td>0.0</td>\n",
       "      <td>0.0</td>\n",
       "      <td>0.0</td>\n",
       "      <td>0.0</td>\n",
       "      <td>0.0</td>\n",
       "      <td>0.0</td>\n",
       "      <td>0.0</td>\n",
       "      <td>0.0</td>\n",
       "      <td>0.0</td>\n",
       "    </tr>\n",
       "    <tr>\n",
       "      <th>4.0</th>\n",
       "      <td>0.014530</td>\n",
       "      <td>0.092891</td>\n",
       "      <td>0.076803</td>\n",
       "      <td>0.002076</td>\n",
       "      <td>0.028023</td>\n",
       "      <td>0.024390</td>\n",
       "      <td>0.000000</td>\n",
       "      <td>0.000519</td>\n",
       "      <td>0.001557</td>\n",
       "      <td>0.243902</td>\n",
       "      <td>...</td>\n",
       "      <td>0.0</td>\n",
       "      <td>0.0</td>\n",
       "      <td>0.0</td>\n",
       "      <td>0.0</td>\n",
       "      <td>0.0</td>\n",
       "      <td>0.0</td>\n",
       "      <td>0.0</td>\n",
       "      <td>0.0</td>\n",
       "      <td>0.0</td>\n",
       "      <td>0.0</td>\n",
       "    </tr>\n",
       "  </tbody>\n",
       "</table>\n",
       "<p>5 rows × 1982 columns</p>\n",
       "</div>"
      ],
      "text/plain": [
       "           PAGE_1    PAGE_2    PAGE_3    PAGE_4    PAGE_5    PAGE_6    PAGE_7  \\\n",
       "USER_ID                                                                         \n",
       "0.0      0.049499  0.090226  0.022556  0.007832  0.001880  0.004699  0.000313   \n",
       "1.0      0.120096  0.120897  0.016813  0.007206  0.001601  0.000801  0.000000   \n",
       "2.0      0.031083  0.168274  0.078242  0.013934  0.018221  0.001072  0.000000   \n",
       "3.0      0.000000  0.169557  0.108863  0.032755  0.030829  0.006744  0.000000   \n",
       "4.0      0.014530  0.092891  0.076803  0.002076  0.028023  0.024390  0.000000   \n",
       "\n",
       "           PAGE_8    PAGE_9   PAGE_10  ...  ON_SITE_SEARCH_TERM_284.0  \\\n",
       "USER_ID                                ...                              \n",
       "0.0      0.000313  0.067043  0.176065  ...                        0.0   \n",
       "1.0      0.000000  0.075260  0.184147  ...                        0.0   \n",
       "2.0      0.000000  0.063237  0.130761  ...                        0.0   \n",
       "3.0      0.000000  0.000000  0.000000  ...                        0.0   \n",
       "4.0      0.000519  0.001557  0.243902  ...                        0.0   \n",
       "\n",
       "         ON_SITE_SEARCH_TERM_285.0  ON_SITE_SEARCH_TERM_286.0  \\\n",
       "USER_ID                                                         \n",
       "0.0                            0.0                        0.0   \n",
       "1.0                            0.0                        0.0   \n",
       "2.0                            0.0                        0.0   \n",
       "3.0                            0.0                        0.0   \n",
       "4.0                            0.0                        0.0   \n",
       "\n",
       "         ON_SITE_SEARCH_TERM_287.0  ON_SITE_SEARCH_TERM_288.0  \\\n",
       "USER_ID                                                         \n",
       "0.0                            0.0                        0.0   \n",
       "1.0                            0.0                        0.0   \n",
       "2.0                            0.0                        0.0   \n",
       "3.0                            0.0                        0.0   \n",
       "4.0                            0.0                        0.0   \n",
       "\n",
       "         ON_SITE_SEARCH_TERM_289.0  ON_SITE_SEARCH_TERM_290.0  \\\n",
       "USER_ID                                                         \n",
       "0.0                            0.0                        0.0   \n",
       "1.0                            0.0                        0.0   \n",
       "2.0                            0.0                        0.0   \n",
       "3.0                            0.0                        0.0   \n",
       "4.0                            0.0                        0.0   \n",
       "\n",
       "         ON_SITE_SEARCH_TERM_291.0  ON_SITE_SEARCH_TERM_292.0  \\\n",
       "USER_ID                                                         \n",
       "0.0                            0.0                        0.0   \n",
       "1.0                            0.0                        0.0   \n",
       "2.0                            0.0                        0.0   \n",
       "3.0                            0.0                        0.0   \n",
       "4.0                            0.0                        0.0   \n",
       "\n",
       "         ON_SITE_SEARCH_TERM_293.0  \n",
       "USER_ID                             \n",
       "0.0                            0.0  \n",
       "1.0                            0.0  \n",
       "2.0                            0.0  \n",
       "3.0                            0.0  \n",
       "4.0                            0.0  \n",
       "\n",
       "[5 rows x 1982 columns]"
      ]
     },
     "execution_count": 11,
     "metadata": {},
     "output_type": "execute_result"
    }
   ],
   "source": [
    "X_train.head()"
   ]
  },
  {
   "cell_type": "code",
   "execution_count": 12,
   "metadata": {
    "scrolled": true
   },
   "outputs": [
    {
     "data": {
      "text/plain": [
       "((11444, 1982), (11492, 2016))"
      ]
     },
     "execution_count": 12,
     "metadata": {},
     "output_type": "execute_result"
    }
   ],
   "source": [
    "X_train.shape, X_test.shape "
   ]
  },
  {
   "cell_type": "code",
   "execution_count": null,
   "metadata": {},
   "outputs": [],
   "source": [
    "# Get features\n",
    "features = list(set(X_train.columns).intersection(set(X_test.columns)))\n",
    "X_train = X_train[features]\n",
    "X_test = X_test[features]"
   ]
  },
  {
   "cell_type": "code",
   "execution_count": null,
   "metadata": {},
   "outputs": [],
   "source": [
    "df_tag = pd.read_csv(fs.open('gs://lavoz-datascience/tmp/conversiones.csv'))"
   ]
  },
  {
   "cell_type": "code",
   "execution_count": 19,
   "metadata": {},
   "outputs": [],
   "source": [
    "# df_pw = df_pw.join(df_tag)"
   ]
  },
  {
   "cell_type": "code",
   "execution_count": null,
   "metadata": {},
   "outputs": [],
   "source": [
    "idx = df_pw.USER_ID.unique()\n",
    "y_test = pd.Series(0, index=idx)\n",
    "y_test[y_test.index.isin(df_tag.USER_ID.unique())] = 1"
   ]
  },
  {
   "cell_type": "code",
   "execution_count": 17,
   "metadata": {},
   "outputs": [
    {
     "data": {
      "image/png": "[encoded data removed]",
      "text/plain": [
       "<Figure size 432x288 with 1 Axes>"
      ]
     },
     "metadata": {
      "needs_background": "light"
     },
     "output_type": "display_data"
    }
   ],
   "source": [
    "# convertions for month\n",
    "(df_tag.groupby(['mes']).USER_ID.nunique() /\n",
    "df_tag.USER_ID.nunique()).plot(kind=\"bar\")\n",
    "plt.show()"
   ]
  },
  {
   "cell_type": "code",
   "execution_count": null,
   "metadata": {},
   "outputs": [],
   "source": [
    "df_pw.loc[df_pw.USER_ID.isin(df_tag.USER_ID), 'tag'] = 1\n",
    "df_pw.tag.fillna(0, inplace=True)"
   ]
  },
  {
   "cell_type": "code",
   "execution_count": 29,
   "metadata": {},
   "outputs": [
    {
     "data": {
      "image/png": "[encoded data removed]",
      "text/plain": [
       "<Figure size 360x360 with 2 Axes>"
      ]
     },
     "metadata": {
      "needs_background": "light"
     },
     "output_type": "display_data"
    }
   ],
   "source": [
    "# columns correlation\n",
    "corr = df_pw.corr()\n",
    "plt.figure(figsize=(5,5))\n",
    "_ = sns.heatmap(corr, cmap='Blues')"
   ]
  },
  {
   "cell_type": "code",
   "execution_count": null,
   "metadata": {},
   "outputs": [],
   "source": [
    "# Create y_train\n",
    "y_train = pd.Series(0, index=X_train.index)\n",
    "idx = set(df_tag[df_tag.mes >= 10].USER_ID.unique()).intersection(set(X_train.index))\n",
    "y_train.loc[list(idx)] = 1"
   ]
  },
  {
   "cell_type": "markdown",
   "metadata": {},
   "source": [
    "### Training Logistic Regression"
   ]
  },
  {
   "cell_type": "code",
   "execution_count": 33,
   "metadata": {},
   "outputs": [],
   "source": [
    "# selector = SelectPercentile(chi2, percentile=50)\n",
    "scaler = StandardScaler()\n",
    "logreg = LogisticRegression(penalty='l2', C=0.0001, class_weight='balanced', random_state=0, max_iter=1000, n_jobs=-2)\n",
    "\n",
    "lr_pl = make_pipeline(scaler, logreg)"
   ]
  },
  {
   "cell_type": "code",
   "execution_count": 77,
   "metadata": {},
   "outputs": [],
   "source": [
    "hiperparams_lr= {\n",
    "#     'logisticregression__C': np.linspace(0.0001, 0.00025, 10),\n",
    "    'logisticregression__solver': ['lbfgs', 'liblinear'], #['newton-cg','sag','lbfgs'],\n",
    "    #'logisticregression__class_weight': ['balanced', 'auto'],\n",
    "    #'selectpercentile__percentile': [50], # range(10, 100, 30),\n",
    "}\n",
    "\n",
    "lr_grid = GridSearchCV(lr_pl, hiperparams_lr, scoring='roc_auc', cv=25, n_jobs=-2)"
   ]
  },
  {
   "cell_type": "code",
   "execution_count": 78,
   "metadata": {},
   "outputs": [
    {
     "name": "stderr",
     "output_type": "stream",
     "text": [
      "/home/who/Enviroments/lavoz-env/lib/python3.6/site-packages/sklearn/linear_model/logistic.py:1544: UserWarning: 'n_jobs' > 1 does not have any effect when 'solver' is set to 'liblinear'. Got 'n_jobs' = 7.\n",
      "  \" = {}.\".format(effective_n_jobs(self.n_jobs)))\n"
     ]
    },
    {
     "name": "stdout",
     "output_type": "stream",
     "text": [
      "CPU times: user 45.6 s, sys: 467 ms, total: 46 s\n",
      "Wall time: 13min 14s\n"
     ]
    },
    {
     "data": {
      "text/plain": [
       "GridSearchCV(cv=25, error_score='raise-deprecating',\n",
       "             estimator=Pipeline(memory=None,\n",
       "                                steps=[('standardscaler',\n",
       "                                        StandardScaler(copy=True,\n",
       "                                                       with_mean=True,\n",
       "                                                       with_std=True)),\n",
       "                                       ('logisticregression',\n",
       "                                        LogisticRegression(C=1.0,\n",
       "                                                           class_weight='balanced',\n",
       "                                                           dual=False,\n",
       "                                                           fit_intercept=True,\n",
       "                                                           intercept_scaling=1,\n",
       "                                                           l1_ratio=None,\n",
       "                                                           max_iter=1000,\n",
       "                                                           multi_class='warn',\n",
       "                                                           n_jobs=-2,\n",
       "                                                           penalty='l2',\n",
       "                                                           random_state=0,\n",
       "                                                           solver='warn',\n",
       "                                                           tol=0.0001,\n",
       "                                                           verbose=0,\n",
       "                                                           warm_start=False))],\n",
       "                                verbose=False),\n",
       "             iid='warn', n_jobs=-2,\n",
       "             param_grid={'logisticregression__solver': ['lbfgs', 'liblinear']},\n",
       "             pre_dispatch='2*n_jobs', refit=True, return_train_score=False,\n",
       "             scoring='roc_auc', verbose=0)"
      ]
     },
     "execution_count": 78,
     "metadata": {},
     "output_type": "execute_result"
    }
   ],
   "source": [
    "%time lr_grid.fit(X_train, y_train)"
   ]
  },
  {
   "cell_type": "code",
   "execution_count": 79,
   "metadata": {},
   "outputs": [
    {
     "data": {
      "text/plain": [
       "Pipeline(memory=None,\n",
       "         steps=[('standardscaler',\n",
       "                 StandardScaler(copy=True, with_mean=True, with_std=True)),\n",
       "                ('logisticregression',\n",
       "                 LogisticRegression(C=1.0, class_weight='balanced', dual=False,\n",
       "                                    fit_intercept=True, intercept_scaling=1,\n",
       "                                    l1_ratio=None, max_iter=1000,\n",
       "                                    multi_class='warn', n_jobs=-2, penalty='l2',\n",
       "                                    random_state=0, solver='liblinear',\n",
       "                                    tol=0.0001, verbose=0, warm_start=False))],\n",
       "         verbose=False)"
      ]
     },
     "execution_count": 79,
     "metadata": {},
     "output_type": "execute_result"
    }
   ],
   "source": [
    "lr_grid.best_estimator_"
   ]
  },
  {
   "cell_type": "code",
   "execution_count": 80,
   "metadata": {},
   "outputs": [
    {
     "data": {
      "text/plain": [
       "(1083, 1409)"
      ]
     },
     "execution_count": 80,
     "metadata": {},
     "output_type": "execute_result"
    }
   ],
   "source": [
    "sum(y_test), sum(lr_grid.predict(X_test))"
   ]
  },
  {
   "cell_type": "code",
   "execution_count": 74,
   "metadata": {},
   "outputs": [],
   "source": [
    "idx = list(set(y_test.index).intersection(set(X_test.index)))"
   ]
  },
  {
   "cell_type": "code",
   "execution_count": 75,
   "metadata": {},
   "outputs": [],
   "source": [
    "y_test = y_test[y_test.index.isin(idx)]"
   ]
  },
  {
   "cell_type": "code",
   "execution_count": 81,
   "metadata": {},
   "outputs": [
    {
     "name": "stdout",
     "output_type": "stream",
     "text": [
      "              precision    recall  f1-score   support\n",
      "\n",
      "           0       0.95      0.92      0.93     10409\n",
      "           1       0.38      0.49      0.43      1083\n",
      "\n",
      "    accuracy                           0.88     11492\n",
      "   macro avg       0.66      0.71      0.68     11492\n",
      "weighted avg       0.89      0.88      0.88     11492\n",
      "\n"
     ]
    }
   ],
   "source": [
    "print(classification_report(y_test, lr_grid.predict(X_test)))"
   ]
  },
  {
   "cell_type": "code",
   "execution_count": 82,
   "metadata": {},
   "outputs": [
    {
     "data": {
      "text/plain": [
       "<matplotlib.legend.Legend at 0x7f3c7cf53f60>"
      ]
     },
     "execution_count": 82,
     "metadata": {},
     "output_type": "execute_result"
    },
    {
     "data": {
      "image/png": "[encoded data removed]",
      "text/plain": [
       "<Figure size 432x432 with 1 Axes>"
      ]
     },
     "metadata": {
      "needs_background": "light"
     },
     "output_type": "display_data"
    }
   ],
   "source": [
    "roc_auc = roc_auc_score(y_test, lr_grid.predict(X_test))\n",
    "#Obtaining false and true positives & thresholds\n",
    "fpr, tpr, thresholds = roc_curve(y_test, lr_grid.predict_proba(X_test)[:,1])\n",
    "#Plotting the curve\n",
    "fig = plt.figure(figsize=(6, 6))\n",
    "\n",
    "plt.plot(fpr, tpr, label='L1 Logistic Regression (area = %0.03f)' % roc_auc)\n",
    "plt.plot([0, 1], [0, 1],'r--')\n",
    "plt.xlim([0.0, 1.0])\n",
    "plt.ylim([0.0, 1.05])\n",
    "plt.xlabel('FPR')\n",
    "plt.ylabel('TPR')\n",
    "plt.title('ROC curve for Logistic regression')\n",
    "plt.legend(loc=\"upper left\")"
   ]
  },
  {
   "cell_type": "code",
   "execution_count": null,
   "metadata": {},
   "outputs": [],
   "source": []
  },
  {
   "cell_type": "markdown",
   "metadata": {},
   "source": [
    "### Training Random Forest"
   ]
  },
  {
   "cell_type": "code",
   "execution_count": null,
   "metadata": {},
   "outputs": [],
   "source": [
    "# selector = SelectPercentile(chi2, percentile=50)\n",
    "rf = RandomForestClassifier(criterion='entropy', class_weight='balanced', random_state=0, n_jobs=-2)\n",
    "\n",
    "rf_pl = make_pipeline(scaler, rf)"
   ]
  },
  {
   "cell_type": "code",
   "execution_count": null,
   "metadata": {},
   "outputs": [],
   "source": [
    "hiperparams_rf = {\n",
    "    'randomforestclassifier__n_estimators': [10000, 20000, 50000],\n",
    "#     'randomforestclassifier__class_weight': ['balanced', 'balanced_subsample']\n",
    "#     'randomforestclassifier__min_samples_split': [10],\n",
    "    #     'randomforestclassifier__criterion': ['gini', 'entropy'],\n",
    "}\n",
    "\n",
    "rf_grid = GridSearchCV(rf_pl, hiperparams_rf, scoring='roc_auc', cv=5, n_jobs=-2)"
   ]
  },
  {
   "cell_type": "code",
   "execution_count": null,
   "metadata": {},
   "outputs": [],
   "source": [
    "%time rf_grid.fit(X_train, y_train)"
   ]
  },
  {
   "cell_type": "code",
   "execution_count": null,
   "metadata": {},
   "outputs": [],
   "source": [
    "rf_grid.best_estimator_"
   ]
  },
  {
   "cell_type": "code",
   "execution_count": null,
   "metadata": {},
   "outputs": [],
   "source": [
    "sum(y_test), sum(rf_grid.predict(X_test))"
   ]
  },
  {
   "cell_type": "code",
   "execution_count": null,
   "metadata": {},
   "outputs": [],
   "source": [
    "print(classification_report(y_test, rf_grid.predict(X_test)))"
   ]
  },
  {
   "cell_type": "code",
   "execution_count": 90,
   "metadata": {},
   "outputs": [
    {
     "data": {
      "text/plain": [
       "<matplotlib.legend.Legend at 0x7f3c7cbb8e48>"
      ]
     },
     "execution_count": 90,
     "metadata": {},
     "output_type": "execute_result"
    },
    {
     "data": {
      "image/png": "[encoded data removed]",
      "text/plain": [
       "<Figure size 432x432 with 1 Axes>"
      ]
     },
     "metadata": {
      "needs_background": "light"
     },
     "output_type": "display_data"
    }
   ],
   "source": [
    "roc_auc = roc_auc_score(y_test, rf_grid.predict(X_test))\n",
    "#Obtaining false and true positives & thresholds\n",
    "fpr, tpr, thresholds = roc_curve(y_test, rf_grid.predict_proba(X_test)[:,1])\n",
    "#Plotting the curve\n",
    "fig = plt.figure(figsize=(6, 6))\n",
    "\n",
    "plt.plot(fpr, tpr, label='L1 Logistic Regression (area = %0.03f)' % roc_auc)\n",
    "plt.plot([0, 1], [0, 1],'r--')\n",
    "plt.xlim([0.0, 1.0])\n",
    "plt.ylim([0.0, 1.05])\n",
    "plt.xlabel('FPR')\n",
    "plt.ylabel('TPR')\n",
    "plt.title('ROC curve for Logistic regression')\n",
    "plt.legend(loc=\"upper left\")"
   ]
  },
  {
   "cell_type": "code",
   "execution_count": null,
   "metadata": {},
   "outputs": [],
   "source": []
  },
  {
   "cell_type": "code",
   "execution_count": null,
   "metadata": {
    "scrolled": false
   },
   "outputs": [],
   "source": [
    "# Entrenamos el modelo LGBM Classifier\n",
    "from lightgbm import LGBMClassifier\n",
    "\n",
    "# importancia de las variables de los modelos entrenados\n",
    "fi = []\n",
    "# probabilidades estimadas\n",
    "test_probs = []\n",
    "i = 0 \n",
    "# Iterams sobre 10 folds\n",
    "for train_idx, valid_idx in KFold(n_splits=10, shuffle=True).split(X_train):\n",
    "    i += 1\n",
    "    # train set\n",
    "    Xt = X_train.iloc[train_idx]\n",
    "    yt = y_train.iloc[train_idx] # y_train.loc[X_train.index].iloc[train_idx]\n",
    "\n",
    "    # validation set\n",
    "    Xv = X_train.iloc[valid_idx]\n",
    "    yv = y_train.iloc[valid_idx]\n",
    "\n",
    "    learner = LGBMClassifier(n_estimators=10000)\n",
    "    # Definimos un early stop de 10 y el método de evaluación como AUC\n",
    "    learner.fit(Xt, yt,  early_stopping_rounds=10, eval_metric=\"auc\", eval_set=[(Xt, yt), (Xv, yv)])\n",
    "    \n",
    "    # Predecimos sobre la base total y nos guardamos las probabilidades estimadas\n",
    "    test_probs.append(pd.Series(learner.predict_proba(X_test)[:, -1],\n",
    "                                index=X_test.index,\n",
    "                                name=\"fold_\" + str(i)))\n",
    "     # Guardamos la proporción de importancia de cada variable en el modelo\n",
    "    fi.append(pd.Series(learner.feature_importances_ / learner.feature_importances_.sum(), index=Xt.columns))\n",
    "\n",
    " # Caluclamos la media de las probabilidades\n",
    "test_probs = pd.concat(test_probs, axis=1).mean(axis=1)\n",
    "test_probs.index.name=\"USER_ID\" # Renombramos las columnas\n",
    "test_probs.name=\"SCORE\" # Renombramos las columnas\n",
    "\n",
    "# Guardamos la predicción final en un zip para subirlo a la plataforma\n",
    "# test_probs.to_csv(\"benchmark.zip\", header=True, compression=\"zip\")\n",
    "\n",
    "# Como explicación del modelo guardamos la importancia de las variables de los modelos entrenados\n",
    "fi = pd.concat(fi, axis=1).mean(axis=1)"
   ]
  },
  {
   "cell_type": "code",
   "execution_count": 56,
   "metadata": {},
   "outputs": [],
   "source": []
  },
  {
   "cell_type": "code",
   "execution_count": null,
   "metadata": {},
   "outputs": [],
   "source": []
  }
 ],
 "metadata": {
  "kernelspec": {
   "display_name": "Python 3",
   "language": "python",
   "name": "python3"
  },
  "language_info": {
   "codemirror_mode": {
    "name": "ipython",
    "version": 3
   },
   "file_extension": ".py",
   "mimetype": "text/x-python",
   "name": "python",
   "nbconvert_exporter": "python",
   "pygments_lexer": "ipython3",
   "version": "3.6.7"
  }
 },
 "nbformat": 4,
 "nbformat_minor": 2
}
